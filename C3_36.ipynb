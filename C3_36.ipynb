{
 "cells": [
  {
   "cell_type": "code",
   "execution_count": 87,
   "id": "43c7c452",
   "metadata": {
    "execution": {
     "iopub.execute_input": "2024-06-09T20:39:44.880512Z",
     "iopub.status.busy": "2024-06-09T20:39:44.879580Z",
     "iopub.status.idle": "2024-06-09T20:39:45.141117Z",
     "shell.execute_reply": "2024-06-09T20:39:45.140368Z",
     "shell.execute_reply.started": "2024-06-09T20:39:44.880473Z"
    }
   },
   "outputs": [
    {
     "name": "stderr",
     "output_type": "stream",
     "text": [
      "[nltk_data] Downloading package wordnet to /home/jupyter/nltk_data...\n",
      "[nltk_data]   Package wordnet is already up-to-date!\n"
     ]
    }
   ],
   "source": [
    "import pandas as pd\n",
    "from sklearn.model_selection import train_test_split\n",
    "import matplotlib.pyplot as plt\n",
    "import nltk\n",
    "import random\n",
    "import pandas as pd\n",
    "from sklearn.metrics import accuracy_score\n",
    "from gensim.models import Word2Vec\n",
    "import torch.nn as nn\n",
    "from nltk.tokenize import RegexpTokenizer\n",
    "import torch.optim as optim\n",
    "from tqdm import tqdm\n",
    "from nltk.corpus import stopwords\n",
    "from nltk.stem import WordNetLemmatizer\n",
    "nltk.download('wordnet')\n",
    "import numpy as np\n",
    "import re \n",
    "from tensorflow.keras.preprocessing.sequence import pad_sequences\n",
    "\n",
    "import torch\n",
    "from torch.utils.data import Dataset, DataLoader\n",
    "from nltk.corpus import wordnet"
   ]
  },
  {
   "cell_type": "code",
   "execution_count": 135,
   "id": "a8740fb0",
   "metadata": {
    "execution": {
     "iopub.execute_input": "2024-06-09T21:02:53.889089Z",
     "iopub.status.busy": "2024-06-09T21:02:53.888074Z",
     "iopub.status.idle": "2024-06-09T21:02:54.092600Z",
     "shell.execute_reply": "2024-06-09T21:02:54.091778Z",
     "shell.execute_reply.started": "2024-06-09T21:02:53.889044Z"
    },
    "tags": []
   },
   "outputs": [],
   "source": [
    "train=pd.read_csv('train.csv',encoding='UTF-8',delimiter=';')\n",
    "test=pd.read_csv('test.csv',encoding='UTF-8',delimiter=';')"
   ]
  },
  {
   "cell_type": "code",
   "execution_count": 136,
   "id": "fed5b623",
   "metadata": {
    "execution": {
     "iopub.execute_input": "2024-06-09T21:02:54.979522Z",
     "iopub.status.busy": "2024-06-09T21:02:54.978457Z",
     "iopub.status.idle": "2024-06-09T21:02:55.012425Z",
     "shell.execute_reply": "2024-06-09T21:02:55.011657Z",
     "shell.execute_reply.started": "2024-06-09T21:02:54.979480Z"
    },
    "tags": []
   },
   "outputs": [],
   "source": [
    "train=train.drop('id',axis=1)\n",
    "test=test.drop('id',axis=1)"
   ]
  },
  {
   "cell_type": "code",
   "execution_count": 137,
   "id": "e16fc851",
   "metadata": {
    "execution": {
     "iopub.execute_input": "2024-06-09T21:02:55.256757Z",
     "iopub.status.busy": "2024-06-09T21:02:55.255763Z",
     "iopub.status.idle": "2024-06-09T21:02:55.279113Z",
     "shell.execute_reply": "2024-06-09T21:02:55.278368Z",
     "shell.execute_reply.started": "2024-06-09T21:02:55.256709Z"
    },
    "tags": []
   },
   "outputs": [
    {
     "data": {
      "text/html": [
       "<div>\n",
       "<style scoped>\n",
       "    .dataframe tbody tr th:only-of-type {\n",
       "        vertical-align: middle;\n",
       "    }\n",
       "\n",
       "    .dataframe tbody tr th {\n",
       "        vertical-align: top;\n",
       "    }\n",
       "\n",
       "    .dataframe thead th {\n",
       "        text-align: right;\n",
       "    }\n",
       "</style>\n",
       "<table border=\"1\" class=\"dataframe\">\n",
       "  <thead>\n",
       "    <tr style=\"text-align: right;\">\n",
       "      <th></th>\n",
       "      <th>comment</th>\n",
       "      <th>toxic</th>\n",
       "    </tr>\n",
       "  </thead>\n",
       "  <tbody>\n",
       "    <tr>\n",
       "      <th>0</th>\n",
       "      <td>Бесполезно что-то пытаться донести так до люде...</td>\n",
       "      <td>0</td>\n",
       "    </tr>\n",
       "    <tr>\n",
       "      <th>1</th>\n",
       "      <td>А свиньи разве умеют читать?\\n</td>\n",
       "      <td>1</td>\n",
       "    </tr>\n",
       "    <tr>\n",
       "      <th>2</th>\n",
       "      <td>Червепидорские страны парашной конфедерации -К...</td>\n",
       "      <td>1</td>\n",
       "    </tr>\n",
       "    <tr>\n",
       "      <th>3</th>\n",
       "      <td>Нет, это не так. Я зашёл сюда специально за эт...</td>\n",
       "      <td>1</td>\n",
       "    </tr>\n",
       "    <tr>\n",
       "      <th>4</th>\n",
       "      <td>Дополнение: Дентрен, та чилийская грязь, на ко...</td>\n",
       "      <td>0</td>\n",
       "    </tr>\n",
       "    <tr>\n",
       "      <th>...</th>\n",
       "      <td>...</td>\n",
       "      <td>...</td>\n",
       "    </tr>\n",
       "    <tr>\n",
       "      <th>14995</th>\n",
       "      <td>\"\\n\\nОбратите внимание: дополнения к категория...</td>\n",
       "      <td>0</td>\n",
       "    </tr>\n",
       "    <tr>\n",
       "      <th>14996</th>\n",
       "      <td>Борцовские арены\\n\\nЯ собираюсь заключить с ва...</td>\n",
       "      <td>0</td>\n",
       "    </tr>\n",
       "    <tr>\n",
       "      <th>14997</th>\n",
       "      <td>Занялась свинособака бесплатно сексом, так еще...</td>\n",
       "      <td>1</td>\n",
       "    </tr>\n",
       "    <tr>\n",
       "      <th>14998</th>\n",
       "      <td>Хуйло, почему ты считаешь что постить с аватар...</td>\n",
       "      <td>1</td>\n",
       "    </tr>\n",
       "    <tr>\n",
       "      <th>14999</th>\n",
       "      <td>На самом деле жара для них вредна и снижает их...</td>\n",
       "      <td>0</td>\n",
       "    </tr>\n",
       "  </tbody>\n",
       "</table>\n",
       "<p>15000 rows × 2 columns</p>\n",
       "</div>"
      ],
      "text/plain": [
       "                                                 comment  toxic\n",
       "0      Бесполезно что-то пытаться донести так до люде...      0\n",
       "1                         А свиньи разве умеют читать?\\n      1\n",
       "2      Червепидорские страны парашной конфедерации -К...      1\n",
       "3      Нет, это не так. Я зашёл сюда специально за эт...      1\n",
       "4      Дополнение: Дентрен, та чилийская грязь, на ко...      0\n",
       "...                                                  ...    ...\n",
       "14995  \"\\n\\nОбратите внимание: дополнения к категория...      0\n",
       "14996  Борцовские арены\\n\\nЯ собираюсь заключить с ва...      0\n",
       "14997  Занялась свинособака бесплатно сексом, так еще...      1\n",
       "14998  Хуйло, почему ты считаешь что постить с аватар...      1\n",
       "14999  На самом деле жара для них вредна и снижает их...      0\n",
       "\n",
       "[15000 rows x 2 columns]"
      ]
     },
     "execution_count": 137,
     "metadata": {},
     "output_type": "execute_result"
    }
   ],
   "source": [
    "train"
   ]
  },
  {
   "cell_type": "code",
   "execution_count": 138,
   "id": "12b0f87e",
   "metadata": {
    "execution": {
     "iopub.execute_input": "2024-06-09T21:02:55.422949Z",
     "iopub.status.busy": "2024-06-09T21:02:55.421904Z",
     "iopub.status.idle": "2024-06-09T21:02:55.503927Z",
     "shell.execute_reply": "2024-06-09T21:02:55.503073Z",
     "shell.execute_reply.started": "2024-06-09T21:02:55.422904Z"
    },
    "tags": []
   },
   "outputs": [],
   "source": [
    "\n",
    "def clean_comments(comments):\n",
    "    comments = comments.replace('\\n\\n', ' ')\n",
    "    comments = comments.replace('\\n', ' ')\n",
    "    comments = comments.strip()\n",
    "    return comments\n",
    "train['comment'] = train['comment'].apply(lambda x: re.sub('\\t|\\r', ' ', x))\n",
    "train['comment'] = train['comment'].apply(clean_comments)"
   ]
  },
  {
   "cell_type": "code",
   "execution_count": 139,
   "id": "4d17c120",
   "metadata": {
    "execution": {
     "iopub.execute_input": "2024-06-09T21:02:55.789285Z",
     "iopub.status.busy": "2024-06-09T21:02:55.787928Z",
     "iopub.status.idle": "2024-06-09T21:02:55.824599Z",
     "shell.execute_reply": "2024-06-09T21:02:55.823682Z",
     "shell.execute_reply.started": "2024-06-09T21:02:55.789223Z"
    },
    "tags": []
   },
   "outputs": [
    {
     "data": {
      "text/html": [
       "<div>\n",
       "<style scoped>\n",
       "    .dataframe tbody tr th:only-of-type {\n",
       "        vertical-align: middle;\n",
       "    }\n",
       "\n",
       "    .dataframe tbody tr th {\n",
       "        vertical-align: top;\n",
       "    }\n",
       "\n",
       "    .dataframe thead th {\n",
       "        text-align: right;\n",
       "    }\n",
       "</style>\n",
       "<table border=\"1\" class=\"dataframe\">\n",
       "  <thead>\n",
       "    <tr style=\"text-align: right;\">\n",
       "      <th></th>\n",
       "      <th>comment</th>\n",
       "      <th>toxic</th>\n",
       "    </tr>\n",
       "  </thead>\n",
       "  <tbody>\n",
       "    <tr>\n",
       "      <th>0</th>\n",
       "      <td>Бесполезно что-то пытаться донести так до люде...</td>\n",
       "      <td>0</td>\n",
       "    </tr>\n",
       "    <tr>\n",
       "      <th>1</th>\n",
       "      <td>А свиньи разве умеют читать?</td>\n",
       "      <td>1</td>\n",
       "    </tr>\n",
       "    <tr>\n",
       "      <th>2</th>\n",
       "      <td>Червепидорские страны парашной конфедерации -К...</td>\n",
       "      <td>1</td>\n",
       "    </tr>\n",
       "    <tr>\n",
       "      <th>3</th>\n",
       "      <td>Нет, это не так. Я зашёл сюда специально за эт...</td>\n",
       "      <td>1</td>\n",
       "    </tr>\n",
       "    <tr>\n",
       "      <th>4</th>\n",
       "      <td>Дополнение: Дентрен, та чилийская грязь, на ко...</td>\n",
       "      <td>0</td>\n",
       "    </tr>\n",
       "    <tr>\n",
       "      <th>...</th>\n",
       "      <td>...</td>\n",
       "      <td>...</td>\n",
       "    </tr>\n",
       "    <tr>\n",
       "      <th>14995</th>\n",
       "      <td>\" Обратите внимание: дополнения к категориям B...</td>\n",
       "      <td>0</td>\n",
       "    </tr>\n",
       "    <tr>\n",
       "      <th>14996</th>\n",
       "      <td>Борцовские арены Я собираюсь заключить с вами ...</td>\n",
       "      <td>0</td>\n",
       "    </tr>\n",
       "    <tr>\n",
       "      <th>14997</th>\n",
       "      <td>Занялась свинособака бесплатно сексом, так еще...</td>\n",
       "      <td>1</td>\n",
       "    </tr>\n",
       "    <tr>\n",
       "      <th>14998</th>\n",
       "      <td>Хуйло, почему ты считаешь что постить с аватар...</td>\n",
       "      <td>1</td>\n",
       "    </tr>\n",
       "    <tr>\n",
       "      <th>14999</th>\n",
       "      <td>На самом деле жара для них вредна и снижает их...</td>\n",
       "      <td>0</td>\n",
       "    </tr>\n",
       "  </tbody>\n",
       "</table>\n",
       "<p>15000 rows × 2 columns</p>\n",
       "</div>"
      ],
      "text/plain": [
       "                                                 comment  toxic\n",
       "0      Бесполезно что-то пытаться донести так до люде...      0\n",
       "1                           А свиньи разве умеют читать?      1\n",
       "2      Червепидорские страны парашной конфедерации -К...      1\n",
       "3      Нет, это не так. Я зашёл сюда специально за эт...      1\n",
       "4      Дополнение: Дентрен, та чилийская грязь, на ко...      0\n",
       "...                                                  ...    ...\n",
       "14995  \" Обратите внимание: дополнения к категориям B...      0\n",
       "14996  Борцовские арены Я собираюсь заключить с вами ...      0\n",
       "14997  Занялась свинособака бесплатно сексом, так еще...      1\n",
       "14998  Хуйло, почему ты считаешь что постить с аватар...      1\n",
       "14999  На самом деле жара для них вредна и снижает их...      0\n",
       "\n",
       "[15000 rows x 2 columns]"
      ]
     },
     "execution_count": 139,
     "metadata": {},
     "output_type": "execute_result"
    }
   ],
   "source": [
    "train"
   ]
  },
  {
   "cell_type": "code",
   "execution_count": 140,
   "id": "5d7e0a54",
   "metadata": {
    "execution": {
     "iopub.execute_input": "2024-06-09T21:02:55.848413Z",
     "iopub.status.busy": "2024-06-09T21:02:55.847261Z",
     "iopub.status.idle": "2024-06-09T21:02:56.065898Z",
     "shell.execute_reply": "2024-06-09T21:02:56.064964Z",
     "shell.execute_reply.started": "2024-06-09T21:02:55.848362Z"
    },
    "tags": []
   },
   "outputs": [
    {
     "data": {
      "text/plain": [
       "<Axes: >"
      ]
     },
     "execution_count": 140,
     "metadata": {},
     "output_type": "execute_result"
    },
    {
     "data": {
      "image/png": "[encoded data removed]",
      "text/plain": [
       "<Figure size 640x480 with 1 Axes>"
      ]
     },
     "metadata": {},
     "output_type": "display_data"
    }
   ],
   "source": [
    "train['toxic'].hist()"
   ]
  },
  {
   "cell_type": "code",
   "execution_count": 141,
   "id": "06b13cfe",
   "metadata": {
    "execution": {
     "iopub.execute_input": "2024-06-09T21:02:56.068165Z",
     "iopub.status.busy": "2024-06-09T21:02:56.067683Z",
     "iopub.status.idle": "2024-06-09T21:02:56.400099Z",
     "shell.execute_reply": "2024-06-09T21:02:56.399242Z",
     "shell.execute_reply.started": "2024-06-09T21:02:56.068128Z"
    },
    "tags": []
   },
   "outputs": [
    {
     "data": {
      "image/png": "[encoded data removed]",
      "text/plain": [
       "<Figure size 1000x600 with 1 Axes>"
      ]
     },
     "metadata": {},
     "output_type": "display_data"
    }
   ],
   "source": [
    "plt.figure(figsize=(10, 6))\n",
    "plt.hist(train['comment'].str.len(), bins=100, color='yellow', edgecolor='black')\n",
    "plt.title('Гистограмма длины комментариев')\n",
    "plt.xlabel('Длина комментария')\n",
    "plt.ylabel('Количество комментариев')\n",
    "plt.grid(True)\n",
    "plt.show()"
   ]
  },
  {
   "cell_type": "code",
   "execution_count": 142,
   "id": "5f9c2912",
   "metadata": {
    "execution": {
     "iopub.execute_input": "2024-06-09T21:02:56.402400Z",
     "iopub.status.busy": "2024-06-09T21:02:56.401674Z",
     "iopub.status.idle": "2024-06-09T21:02:56.465291Z",
     "shell.execute_reply": "2024-06-09T21:02:56.464420Z",
     "shell.execute_reply.started": "2024-06-09T21:02:56.402362Z"
    },
    "tags": []
   },
   "outputs": [
    {
     "data": {
      "text/plain": [
       "134"
      ]
     },
     "execution_count": 142,
     "metadata": {},
     "output_type": "execute_result"
    }
   ],
   "source": [
    "train.duplicated().sum()"
   ]
  },
  {
   "cell_type": "code",
   "execution_count": 143,
   "id": "1b0b12c5",
   "metadata": {
    "execution": {
     "iopub.execute_input": "2024-06-09T21:02:56.467615Z",
     "iopub.status.busy": "2024-06-09T21:02:56.466544Z",
     "iopub.status.idle": "2024-06-09T21:02:56.504762Z",
     "shell.execute_reply": "2024-06-09T21:02:56.503934Z",
     "shell.execute_reply.started": "2024-06-09T21:02:56.467569Z"
    },
    "tags": []
   },
   "outputs": [],
   "source": [
    "train=train.drop_duplicates()"
   ]
  },
  {
   "cell_type": "code",
   "execution_count": 144,
   "id": "b1b4f490",
   "metadata": {
    "execution": {
     "iopub.execute_input": "2024-06-09T21:02:57.070781Z",
     "iopub.status.busy": "2024-06-09T21:02:57.069545Z",
     "iopub.status.idle": "2024-06-09T21:02:57.082476Z",
     "shell.execute_reply": "2024-06-09T21:02:57.081607Z",
     "shell.execute_reply.started": "2024-06-09T21:02:57.070738Z"
    },
    "tags": []
   },
   "outputs": [],
   "source": [
    "train.reset_index(inplace=True,drop=True)"
   ]
  },
  {
   "cell_type": "code",
   "execution_count": 145,
   "id": "c70f493c",
   "metadata": {
    "execution": {
     "iopub.execute_input": "2024-06-09T21:02:58.651693Z",
     "iopub.status.busy": "2024-06-09T21:02:58.650698Z",
     "iopub.status.idle": "2024-06-09T21:02:58.678171Z",
     "shell.execute_reply": "2024-06-09T21:02:58.677419Z",
     "shell.execute_reply.started": "2024-06-09T21:02:58.651652Z"
    },
    "tags": []
   },
   "outputs": [
    {
     "data": {
      "text/html": [
       "<div>\n",
       "<style scoped>\n",
       "    .dataframe tbody tr th:only-of-type {\n",
       "        vertical-align: middle;\n",
       "    }\n",
       "\n",
       "    .dataframe tbody tr th {\n",
       "        vertical-align: top;\n",
       "    }\n",
       "\n",
       "    .dataframe thead th {\n",
       "        text-align: right;\n",
       "    }\n",
       "</style>\n",
       "<table border=\"1\" class=\"dataframe\">\n",
       "  <thead>\n",
       "    <tr style=\"text-align: right;\">\n",
       "      <th></th>\n",
       "      <th>comment</th>\n",
       "    </tr>\n",
       "  </thead>\n",
       "  <tbody>\n",
       "    <tr>\n",
       "      <th>0</th>\n",
       "      <td>Или эти программисты, зарабатывающие 3кк с, вс...</td>\n",
       "    </tr>\n",
       "    <tr>\n",
       "      <th>1</th>\n",
       "      <td>0,3 с коррекцией, т.е в очках или линзах.\\n</td>\n",
       "    </tr>\n",
       "    <tr>\n",
       "      <th>2</th>\n",
       "      <td>...\\n\\nДа, здесь все идет. Это моя страница об...</td>\n",
       "    </tr>\n",
       "    <tr>\n",
       "      <th>3</th>\n",
       "      <td>Да. Но отчасти в этом есть вина и самой теслы....</td>\n",
       "    </tr>\n",
       "    <tr>\n",
       "      <th>4</th>\n",
       "      <td>нужен баланс между труд отдых зачем? бывали сл...</td>\n",
       "    </tr>\n",
       "    <tr>\n",
       "      <th>...</th>\n",
       "      <td>...</td>\n",
       "    </tr>\n",
       "    <tr>\n",
       "      <th>5407</th>\n",
       "      <td>Кроме того, в комплектацию входят прибор ночно...</td>\n",
       "    </tr>\n",
       "    <tr>\n",
       "      <th>5408</th>\n",
       "      <td>На самом деле, вся эта статья нуждается в дора...</td>\n",
       "    </tr>\n",
       "    <tr>\n",
       "      <th>5409</th>\n",
       "      <td>Фиговый регистратор, можно и 24 часа вместить ...</td>\n",
       "    </tr>\n",
       "    <tr>\n",
       "      <th>5410</th>\n",
       "      <td>я не из бедной семьи, но в подростковом возрас...</td>\n",
       "    </tr>\n",
       "    <tr>\n",
       "      <th>5411</th>\n",
       "      <td>\"\\nКто-то только что изменил это. Судя по книг...</td>\n",
       "    </tr>\n",
       "  </tbody>\n",
       "</table>\n",
       "<p>5412 rows × 1 columns</p>\n",
       "</div>"
      ],
      "text/plain": [
       "                                                comment\n",
       "0     Или эти программисты, зарабатывающие 3кк с, вс...\n",
       "1           0,3 с коррекцией, т.е в очках или линзах.\\n\n",
       "2     ...\\n\\nДа, здесь все идет. Это моя страница об...\n",
       "3     Да. Но отчасти в этом есть вина и самой теслы....\n",
       "4     нужен баланс между труд отдых зачем? бывали сл...\n",
       "...                                                 ...\n",
       "5407  Кроме того, в комплектацию входят прибор ночно...\n",
       "5408  На самом деле, вся эта статья нуждается в дора...\n",
       "5409  Фиговый регистратор, можно и 24 часа вместить ...\n",
       "5410  я не из бедной семьи, но в подростковом возрас...\n",
       "5411  \"\\nКто-то только что изменил это. Судя по книг...\n",
       "\n",
       "[5412 rows x 1 columns]"
      ]
     },
     "execution_count": 145,
     "metadata": {},
     "output_type": "execute_result"
    }
   ],
   "source": [
    "test"
   ]
  },
  {
   "cell_type": "code",
   "execution_count": 146,
   "id": "cce794f2",
   "metadata": {
    "execution": {
     "iopub.execute_input": "2024-06-09T21:02:59.424663Z",
     "iopub.status.busy": "2024-06-09T21:02:59.423795Z",
     "iopub.status.idle": "2024-06-09T21:02:59.469219Z",
     "shell.execute_reply": "2024-06-09T21:02:59.468358Z",
     "shell.execute_reply.started": "2024-06-09T21:02:59.424622Z"
    },
    "tags": []
   },
   "outputs": [],
   "source": [
    "train_df, temp_df = train_test_split(train, test_size=0.3)  \n",
    "val_df, test_df = train_test_split(temp_df, test_size=0.5)"
   ]
  },
  {
   "cell_type": "code",
   "execution_count": 147,
   "id": "3bb11911",
   "metadata": {
    "execution": {
     "iopub.execute_input": "2024-06-09T21:03:00.417559Z",
     "iopub.status.busy": "2024-06-09T21:03:00.416687Z",
     "iopub.status.idle": "2024-06-09T21:03:00.555807Z",
     "shell.execute_reply": "2024-06-09T21:03:00.554945Z",
     "shell.execute_reply.started": "2024-06-09T21:03:00.417521Z"
    },
    "tags": []
   },
   "outputs": [
    {
     "data": {
      "text/html": [
       "<div>\n",
       "<style scoped>\n",
       "    .dataframe tbody tr th:only-of-type {\n",
       "        vertical-align: middle;\n",
       "    }\n",
       "\n",
       "    .dataframe tbody tr th {\n",
       "        vertical-align: top;\n",
       "    }\n",
       "\n",
       "    .dataframe thead th {\n",
       "        text-align: right;\n",
       "    }\n",
       "</style>\n",
       "<table border=\"1\" class=\"dataframe\">\n",
       "  <thead>\n",
       "    <tr style=\"text-align: right;\">\n",
       "      <th></th>\n",
       "      <th>comment</th>\n",
       "    </tr>\n",
       "  </thead>\n",
       "  <tbody>\n",
       "    <tr>\n",
       "      <th>0</th>\n",
       "      <td>Или эти программисты, зарабатывающие 3кк с, вс...</td>\n",
       "    </tr>\n",
       "    <tr>\n",
       "      <th>1</th>\n",
       "      <td>0,3 с коррекцией, т.е в очках или линзах.\\n</td>\n",
       "    </tr>\n",
       "    <tr>\n",
       "      <th>2</th>\n",
       "      <td>...\\n\\nДа, здесь все идет. Это моя страница об...</td>\n",
       "    </tr>\n",
       "    <tr>\n",
       "      <th>3</th>\n",
       "      <td>Да. Но отчасти в этом есть вина и самой теслы....</td>\n",
       "    </tr>\n",
       "    <tr>\n",
       "      <th>4</th>\n",
       "      <td>нужен баланс между труд отдых зачем? бывали сл...</td>\n",
       "    </tr>\n",
       "    <tr>\n",
       "      <th>...</th>\n",
       "      <td>...</td>\n",
       "    </tr>\n",
       "    <tr>\n",
       "      <th>5407</th>\n",
       "      <td>Кроме того, в комплектацию входят прибор ночно...</td>\n",
       "    </tr>\n",
       "    <tr>\n",
       "      <th>5408</th>\n",
       "      <td>На самом деле, вся эта статья нуждается в дора...</td>\n",
       "    </tr>\n",
       "    <tr>\n",
       "      <th>5409</th>\n",
       "      <td>Фиговый регистратор, можно и 24 часа вместить ...</td>\n",
       "    </tr>\n",
       "    <tr>\n",
       "      <th>5410</th>\n",
       "      <td>я не из бедной семьи, но в подростковом возрас...</td>\n",
       "    </tr>\n",
       "    <tr>\n",
       "      <th>5411</th>\n",
       "      <td>\"\\nКто-то только что изменил это. Судя по книг...</td>\n",
       "    </tr>\n",
       "  </tbody>\n",
       "</table>\n",
       "<p>5412 rows × 1 columns</p>\n",
       "</div>"
      ],
      "text/plain": [
       "                                                comment\n",
       "0     Или эти программисты, зарабатывающие 3кк с, вс...\n",
       "1           0,3 с коррекцией, т.е в очках или линзах.\\n\n",
       "2     ...\\n\\nДа, здесь все идет. Это моя страница об...\n",
       "3     Да. Но отчасти в этом есть вина и самой теслы....\n",
       "4     нужен баланс между труд отдых зачем? бывали сл...\n",
       "...                                                 ...\n",
       "5407  Кроме того, в комплектацию входят прибор ночно...\n",
       "5408  На самом деле, вся эта статья нуждается в дора...\n",
       "5409  Фиговый регистратор, можно и 24 часа вместить ...\n",
       "5410  я не из бедной семьи, но в подростковом возрас...\n",
       "5411  \"\\nКто-то только что изменил это. Судя по книг...\n",
       "\n",
       "[5412 rows x 1 columns]"
      ]
     },
     "execution_count": 147,
     "metadata": {},
     "output_type": "execute_result"
    }
   ],
   "source": [
    "test"
   ]
  },
  {
   "cell_type": "markdown",
   "id": "ea19a117",
   "metadata": {},
   "source": [
    "## АУГМЕНТАЦИЯ"
   ]
  },
  {
   "cell_type": "code",
   "execution_count": 148,
   "id": "d4b9baca",
   "metadata": {
    "execution": {
     "iopub.execute_input": "2024-06-09T21:03:02.065737Z",
     "iopub.status.busy": "2024-06-09T21:03:02.064859Z",
     "iopub.status.idle": "2024-06-09T21:03:07.729171Z",
     "shell.execute_reply": "2024-06-09T21:03:07.728274Z",
     "shell.execute_reply.started": "2024-06-09T21:03:02.065701Z"
    },
    "tags": []
   },
   "outputs": [],
   "source": [
    "import requests\n",
    "\n",
    "url = 'https://raw.githubusercontent.com/s-nlp/inappropriate-sensitive-topics/main/Version2/appropriateness/train.csv'\n",
    "response = requests.get(url)\n",
    "response = requests.get(url)\n",
    "\n",
    "with open('train.csv', 'wb') as f:\n",
    "    f.write(response.content)"
   ]
  },
  {
   "cell_type": "code",
   "execution_count": 149,
   "id": "4bd4bfc7",
   "metadata": {
    "execution": {
     "iopub.execute_input": "2024-06-09T21:03:08.536989Z",
     "iopub.status.busy": "2024-06-09T21:03:08.535947Z",
     "iopub.status.idle": "2024-06-09T21:03:08.573708Z",
     "shell.execute_reply": "2024-06-09T21:03:08.572873Z",
     "shell.execute_reply.started": "2024-06-09T21:03:08.536947Z"
    },
    "tags": []
   },
   "outputs": [],
   "source": [
    "def round_val(val):\n",
    "    return round(val)"
   ]
  },
  {
   "cell_type": "code",
   "execution_count": 150,
   "id": "81ef8e08",
   "metadata": {
    "execution": {
     "iopub.execute_input": "2024-06-09T21:03:09.703685Z",
     "iopub.status.busy": "2024-06-09T21:03:09.702711Z",
     "iopub.status.idle": "2024-06-09T21:03:10.349280Z",
     "shell.execute_reply": "2024-06-09T21:03:10.348373Z",
     "shell.execute_reply.started": "2024-06-09T21:03:09.703641Z"
    },
    "tags": []
   },
   "outputs": [],
   "source": [
    "df = pd.read_csv('train.csv')\n",
    "label_name = 'inappropriate'\n",
    "threshold = 0\n",
    "df = df[(df[label_name] >= 1-threshold)|(df[label_name] <=threshold)]\n",
    "df[label_name] = df[label_name].apply(round_val)\n",
    "df=df[['text','inappropriate']]"
   ]
  },
  {
   "cell_type": "code",
   "execution_count": 151,
   "id": "c0d1b02b",
   "metadata": {
    "execution": {
     "iopub.execute_input": "2024-06-09T21:03:11.498340Z",
     "iopub.status.busy": "2024-06-09T21:03:11.497324Z",
     "iopub.status.idle": "2024-06-09T21:03:11.689706Z",
     "shell.execute_reply": "2024-06-09T21:03:11.688749Z",
     "shell.execute_reply.started": "2024-06-09T21:03:11.498299Z"
    },
    "tags": []
   },
   "outputs": [],
   "source": [
    "def clean_comments(comments):\n",
    "    comments = comments.replace('\\n\\n', ' ')\n",
    "    comments = comments.replace('\\n', ' ')\n",
    "    comments = comments.strip()\n",
    "    return comments\n",
    "df['text'] = df['text'].apply(lambda x: re.sub('\\t|\\r', ' ', x))\n",
    "df['text'] = df['text'].apply(clean_comments)"
   ]
  },
  {
   "cell_type": "code",
   "execution_count": 152,
   "id": "3ef9ebb5",
   "metadata": {
    "execution": {
     "iopub.execute_input": "2024-06-09T21:03:12.737726Z",
     "iopub.status.busy": "2024-06-09T21:03:12.736617Z",
     "iopub.status.idle": "2024-06-09T21:03:12.774288Z",
     "shell.execute_reply": "2024-06-09T21:03:12.773377Z",
     "shell.execute_reply.started": "2024-06-09T21:03:12.737677Z"
    },
    "tags": []
   },
   "outputs": [],
   "source": [
    "df=df.iloc[:50000]\n",
    "df.columns=['comment','toxic']"
   ]
  },
  {
   "cell_type": "code",
   "execution_count": 153,
   "id": "b661cbdb",
   "metadata": {
    "execution": {
     "iopub.execute_input": "2024-06-09T21:03:13.561665Z",
     "iopub.status.busy": "2024-06-09T21:03:13.560713Z",
     "iopub.status.idle": "2024-06-09T21:03:13.586969Z",
     "shell.execute_reply": "2024-06-09T21:03:13.585927Z",
     "shell.execute_reply.started": "2024-06-09T21:03:13.561621Z"
    },
    "tags": []
   },
   "outputs": [],
   "source": [
    "DF=pd.concat([train,df],axis=0)"
   ]
  },
  {
   "cell_type": "code",
   "execution_count": 299,
   "id": "f4dc2896",
   "metadata": {
    "execution": {
     "iopub.execute_input": "2024-06-09T20:40:04.486913Z",
     "iopub.status.busy": "2024-06-09T20:40:04.485731Z",
     "iopub.status.idle": "2024-06-09T20:40:04.541853Z",
     "shell.execute_reply": "2024-06-09T20:40:04.540565Z",
     "shell.execute_reply.started": "2024-06-09T20:40:04.486870Z"
    }
   },
   "outputs": [],
   "source": [
    "from datasets import load_dataset\n",
    "\n",
    "dataset = load_dataset(\"AlexSham/Toxic_Russian_Comments\")"
   ]
  },
  {
   "cell_type": "code",
   "execution_count": 300,
   "id": "658a2e6d",
   "metadata": {
    "execution": {
     "iopub.execute_input": "2024-06-09T20:40:04.827300Z",
     "iopub.status.busy": "2024-06-09T20:40:04.826200Z",
     "iopub.status.idle": "2024-06-09T20:40:04.861412Z",
     "shell.execute_reply": "2024-06-09T20:40:04.860284Z",
     "shell.execute_reply.started": "2024-06-09T20:40:04.827256Z"
    }
   },
   "outputs": [],
   "source": [
    "df2= pd.DataFrame(dataset['train'])"
   ]
  },
  {
   "cell_type": "code",
   "execution_count": 155,
   "id": "a2b69bf4",
   "metadata": {
    "execution": {
     "iopub.execute_input": "2024-06-09T21:03:19.897901Z",
     "iopub.status.busy": "2024-06-09T21:03:19.896962Z",
     "iopub.status.idle": "2024-06-09T21:03:20.337405Z",
     "shell.execute_reply": "2024-06-09T21:03:20.336564Z",
     "shell.execute_reply.started": "2024-06-09T21:03:19.897861Z"
    },
    "tags": []
   },
   "outputs": [],
   "source": [
    "df2['text'] = df2['text'].apply(lambda x: re.sub('\\t|\\r', ' ', x))\n",
    "df2['text'] = df2['text'].apply(clean_comments)"
   ]
  },
  {
   "cell_type": "code",
   "execution_count": 156,
   "id": "61c2bf1c",
   "metadata": {
    "execution": {
     "iopub.execute_input": "2024-06-09T21:03:20.602259Z",
     "iopub.status.busy": "2024-06-09T21:03:20.601276Z",
     "iopub.status.idle": "2024-06-09T21:03:20.656179Z",
     "shell.execute_reply": "2024-06-09T21:03:20.655299Z",
     "shell.execute_reply.started": "2024-06-09T21:03:20.602205Z"
    },
    "tags": []
   },
   "outputs": [],
   "source": [
    "df2.columns=['comment','toxic']"
   ]
  },
  {
   "cell_type": "code",
   "execution_count": 157,
   "id": "779e3b12",
   "metadata": {
    "execution": {
     "iopub.execute_input": "2024-06-09T21:03:21.644733Z",
     "iopub.status.busy": "2024-06-09T21:03:21.643679Z",
     "iopub.status.idle": "2024-06-09T21:03:21.674480Z",
     "shell.execute_reply": "2024-06-09T21:03:21.673686Z",
     "shell.execute_reply.started": "2024-06-09T21:03:21.644701Z"
    },
    "tags": []
   },
   "outputs": [],
   "source": [
    "DF=pd.concat([DF,df2],axis=0)"
   ]
  },
  {
   "cell_type": "code",
   "execution_count": 158,
   "id": "3caa8f1e",
   "metadata": {
    "execution": {
     "iopub.execute_input": "2024-06-09T21:03:23.490280Z",
     "iopub.status.busy": "2024-06-09T21:03:23.489293Z",
     "iopub.status.idle": "2024-06-09T21:03:23.508811Z",
     "shell.execute_reply": "2024-06-09T21:03:23.507961Z",
     "shell.execute_reply.started": "2024-06-09T21:03:23.490220Z"
    },
    "tags": []
   },
   "outputs": [],
   "source": [
    "DF.reset_index(drop=True,inplace=True)"
   ]
  },
  {
   "cell_type": "code",
   "execution_count": 159,
   "id": "9745c376",
   "metadata": {
    "execution": {
     "iopub.execute_input": "2024-06-09T21:03:24.638633Z",
     "iopub.status.busy": "2024-06-09T21:03:24.637563Z",
     "iopub.status.idle": "2024-06-09T21:03:24.680032Z",
     "shell.execute_reply": "2024-06-09T21:03:24.679258Z",
     "shell.execute_reply.started": "2024-06-09T21:03:24.638584Z"
    },
    "tags": []
   },
   "outputs": [],
   "source": [
    "train_df, temp_df = train_test_split(DF, test_size=0.3)  \n",
    "val_df, test_df = train_test_split(temp_df, test_size=0.5)"
   ]
  },
  {
   "cell_type": "code",
   "execution_count": 160,
   "id": "4fb2942a",
   "metadata": {
    "execution": {
     "iopub.execute_input": "2024-06-09T21:03:25.345568Z",
     "iopub.status.busy": "2024-06-09T21:03:25.344857Z",
     "iopub.status.idle": "2024-06-09T21:03:25.361734Z",
     "shell.execute_reply": "2024-06-09T21:03:25.361010Z",
     "shell.execute_reply.started": "2024-06-09T21:03:25.345531Z"
    },
    "tags": []
   },
   "outputs": [
    {
     "name": "stderr",
     "output_type": "stream",
     "text": [
      "[nltk_data] Downloading package punkt to /home/jupyter/nltk_data...\n",
      "[nltk_data]   Package punkt is already up-to-date!\n",
      "[nltk_data] Downloading package wordnet to /home/jupyter/nltk_data...\n",
      "[nltk_data]   Package wordnet is already up-to-date!\n",
      "[nltk_data] Downloading package stopwords to\n",
      "[nltk_data]     /home/jupyter/nltk_data...\n",
      "[nltk_data]   Package stopwords is already up-to-date!\n"
     ]
    }
   ],
   "source": [
    "nltk.download('punkt')\n",
    "nltk.download('wordnet')\n",
    "nltk.download('stopwords')\n",
    "\n",
    "lemmatizer = WordNetLemmatizer()\n",
    "stop_words = set(stopwords.words('russian')) \n",
    "\n",
    "def preprocess_text(text):\n",
    "    text = re.sub(r'\\[', '', text)\n",
    "    text = re.sub(r'\\]', '', text)\n",
    "    text = text.lower()\n",
    "    text = re.sub(r'[^а-яА-ЯёЁa-zA-Z0-9 ,.;!?\\'\\\"-]', '', text)\n",
    "    text = re.sub(r'[.,;!?\\'\\\"-]', ' ', text)\n",
    "    words = text.split()\n",
    "    words = [word for word in words if word not in stop_words]\n",
    "    lemmatized_words = [lemmatizer.lemmatize(word) for word in words]\n",
    "    return ' '.join(lemmatized_words)\n"
   ]
  },
  {
   "cell_type": "code",
   "execution_count": 161,
   "id": "751664cf",
   "metadata": {
    "execution": {
     "iopub.execute_input": "2024-06-09T21:03:27.071779Z",
     "iopub.status.busy": "2024-06-09T21:03:27.070876Z",
     "iopub.status.idle": "2024-06-09T21:03:36.024765Z",
     "shell.execute_reply": "2024-06-09T21:03:36.023834Z",
     "shell.execute_reply.started": "2024-06-09T21:03:27.071740Z"
    },
    "tags": []
   },
   "outputs": [],
   "source": [
    "train_df['comment']=train_df['comment'].apply(preprocess_text)\n",
    "val_df['comment'] = val_df['comment'].apply(preprocess_text)\n",
    "test_df['comment'] = test_df['comment'].apply(preprocess_text)\n"
   ]
  },
  {
   "cell_type": "code",
   "execution_count": 162,
   "id": "4d8ea6e3",
   "metadata": {
    "execution": {
     "iopub.execute_input": "2024-06-09T21:03:37.937092Z",
     "iopub.status.busy": "2024-06-09T21:03:37.936273Z",
     "iopub.status.idle": "2024-06-09T21:03:39.304345Z",
     "shell.execute_reply": "2024-06-09T21:03:39.303338Z",
     "shell.execute_reply.started": "2024-06-09T21:03:37.937049Z"
    }
   },
   "outputs": [],
   "source": [
    "def Tokenizer(text):\n",
    "    return re.findall(r'\\b\\w+\\b', text)\n",
    "train_df['token1']=train_df['comment'].apply(Tokenizer)\n",
    "val_df['token1']=val_df['comment'].apply(Tokenizer)"
   ]
  },
  {
   "cell_type": "code",
   "execution_count": 163,
   "id": "8a2a28ca",
   "metadata": {
    "execution": {
     "iopub.execute_input": "2024-06-09T21:03:39.307049Z",
     "iopub.status.busy": "2024-06-09T21:03:39.305832Z",
     "iopub.status.idle": "2024-06-09T21:03:54.699538Z",
     "shell.execute_reply": "2024-06-09T21:03:54.698744Z",
     "shell.execute_reply.started": "2024-06-09T21:03:39.307009Z"
    }
   },
   "outputs": [],
   "source": [
    "train_sentences = train_df['token1'].tolist()\n",
    "val_sentences=val_df['token1'].tolist()\n",
    "\n",
    "word2vec_model = Word2Vec(sentences=train_sentences + val_sentences, vector_size=100, window=5, min_count=1, workers=4)\n",
    "\n"
   ]
  },
  {
   "cell_type": "code",
   "execution_count": 164,
   "id": "648c75dd",
   "metadata": {
    "execution": {
     "iopub.execute_input": "2024-06-09T21:03:54.702172Z",
     "iopub.status.busy": "2024-06-09T21:03:54.701267Z",
     "iopub.status.idle": "2024-06-09T21:04:02.621375Z",
     "shell.execute_reply": "2024-06-09T21:04:02.620499Z",
     "shell.execute_reply.started": "2024-06-09T21:03:54.702132Z"
    }
   },
   "outputs": [],
   "source": [
    "def text_to_w2v(text, word2vec_model, vector_size):\n",
    "    vectors = []\n",
    "    for word in text:\n",
    "        if word in word2vec_model.wv:\n",
    "            vectors.append(word2vec_model.wv[word])\n",
    "    if len(vectors) > 0:\n",
    "        return np.mean(vectors, axis=0)\n",
    "    else:\n",
    "        return np.zeros(vector_size)\n",
    "\n",
    "X_train = np.vstack(train_df['token1'].apply(lambda x: text_to_w2v(x, word2vec_model, 100)))\n",
    "X_val = np.vstack(val_df['token1'].apply(lambda x: text_to_w2v(x, word2vec_model, 100)))\n",
    "y_train = np.array(train_df['toxic'])\n",
    "y_val = np.array(val_df['toxic'])\n",
    "\n",
    "X_train_tensor = torch.tensor(X_train).float()\n",
    "X_val_tensor = torch.tensor(X_val).float()\n",
    "y_train_tensor = torch.tensor(y_train)\n",
    "y_val_tensor = torch.tensor(y_val)"
   ]
  },
  {
   "cell_type": "code",
   "execution_count": 165,
   "id": "3a58c335",
   "metadata": {
    "execution": {
     "iopub.execute_input": "2024-06-09T21:04:02.623500Z",
     "iopub.status.busy": "2024-06-09T21:04:02.622333Z",
     "iopub.status.idle": "2024-06-09T21:04:02.695796Z",
     "shell.execute_reply": "2024-06-09T21:04:02.694889Z",
     "shell.execute_reply.started": "2024-06-09T21:04:02.623463Z"
    }
   },
   "outputs": [],
   "source": [
    "class CustomDataset(Dataset):\n",
    "    def __init__(self, X, y):\n",
    "        self.X = X\n",
    "        self.y = y\n",
    "\n",
    "    def __len__(self):\n",
    "        return len(self.X)\n",
    "\n",
    "    def __getitem__(self, idx):\n",
    "        return self.X[idx], self.y[idx]\n",
    "\n",
    "train_dataset = CustomDataset(X_train_tensor, y_train_tensor)\n",
    "val_dataset = CustomDataset(X_val_tensor, y_val_tensor)\n",
    "\n",
    "train_loader = DataLoader(train_dataset, batch_size=32, shuffle=True)\n",
    "val_loader = DataLoader(val_dataset, batch_size=32)"
   ]
  },
  {
   "cell_type": "code",
   "execution_count": 166,
   "id": "aa875069",
   "metadata": {
    "execution": {
     "iopub.execute_input": "2024-06-09T21:04:02.698401Z",
     "iopub.status.busy": "2024-06-09T21:04:02.697556Z",
     "iopub.status.idle": "2024-06-09T21:07:48.622594Z",
     "shell.execute_reply": "2024-06-09T21:07:48.621672Z",
     "shell.execute_reply.started": "2024-06-09T21:04:02.698361Z"
    },
    "scrolled": true
   },
   "outputs": [
    {
     "name": "stdout",
     "output_type": "stream",
     "text": [
      "Epoch 1/15, Loss: 0.4054070898014568\n",
      "Epoch 2/15, Loss: 0.3913927920323312\n",
      "Epoch 3/15, Loss: 0.3871904827994528\n",
      "Epoch 4/15, Loss: 0.3844951757630859\n",
      "Epoch 5/15, Loss: 0.38226520622322735\n",
      "Epoch 6/15, Loss: 0.38105442999291056\n",
      "Epoch 7/15, Loss: 0.38003105445562396\n",
      "Epoch 8/15, Loss: 0.3789626278866675\n",
      "Epoch 9/15, Loss: 0.3785311600397717\n",
      "Epoch 10/15, Loss: 0.37770761771998074\n",
      "Epoch 11/15, Loss: 0.37670866219762694\n",
      "Epoch 12/15, Loss: 0.37545362692716083\n",
      "Epoch 13/15, Loss: 0.37549274526512844\n",
      "Epoch 14/15, Loss: 0.3755119415041421\n",
      "Epoch 15/15, Loss: 0.3742754636314676\n",
      "Validation Accuracy: 82.51751485583482%\n"
     ]
    }
   ],
   "source": [
    "class Classifier(nn.Module):\n",
    "    def __init__(self, input_size, hidden_size1, hidden_size2, hidden_size3, num_classes, dropout_prob=0.5):\n",
    "        super(Classifier, self).__init__()\n",
    "        self.fc1 = nn.Linear(input_size, hidden_size1)\n",
    "        self.relu1 = nn.ReLU()\n",
    "        self.fc2 = nn.Linear(hidden_size1, hidden_size2)\n",
    "        self.relu2 = nn.ReLU()\n",
    "        self.fc3 = nn.Linear(hidden_size2, hidden_size3)\n",
    "        self.relu3 = nn.ReLU()\n",
    "        self.fc4 = nn.Linear(hidden_size3, num_classes)\n",
    "        self.dropout = nn.Dropout(dropout_prob)\n",
    "        self.batchnorm1 = nn.BatchNorm1d(hidden_size1)\n",
    "        self.batchnorm2 = nn.BatchNorm1d(hidden_size2)\n",
    "        self.batchnorm3 = nn.BatchNorm1d(hidden_size3)\n",
    "\n",
    "    def forward(self, x):\n",
    "        out = self.fc1(x)\n",
    "        out = self.batchnorm1(out)\n",
    "        out = self.relu1(out)\n",
    "        out = self.dropout(out)\n",
    "        out = self.fc2(out)\n",
    "        out = self.batchnorm2(out)\n",
    "        out = self.relu2(out)\n",
    "        out = self.dropout(out)\n",
    "        out = self.fc3(out)\n",
    "        out = self.batchnorm3(out)\n",
    "        out = self.relu3(out)\n",
    "        out = self.dropout(out)\n",
    "        out = self.fc4(out)\n",
    "        return out\n",
    "\n",
    "input_size = 100  #\n",
    "hidden_size1 = 256\n",
    "hidden_size2 = 128\n",
    "hidden_size3 = 64\n",
    "num_classes = 1\n",
    "\n",
    "model = Classifier(input_size, hidden_size1, hidden_size2, hidden_size3, num_classes)\n",
    "criterion = nn.BCEWithLogitsLoss()\n",
    "optimizer = optim.Adam(model.parameters(), lr=0.001)\n",
    "\n",
    "\n",
    "num_epochs = 15\n",
    "for epoch in range(num_epochs):\n",
    "    model.train()\n",
    "    running_loss = 0.0\n",
    "    for inputs, labels in train_loader:\n",
    "        optimizer.zero_grad()\n",
    "        outputs = model(inputs.float())\n",
    "        labels = labels.view(-1, 1)  \n",
    "        loss = criterion(outputs, labels.float())\n",
    "        loss.backward()\n",
    "        optimizer.step()\n",
    "        running_loss += loss.item()\n",
    "    \n",
    "    print(f\"Epoch {epoch+1}/{num_epochs}, Loss: {running_loss/len(train_loader)}\")\n",
    "\n",
    "model.eval()\n",
    "correct = 0\n",
    "total = 0\n",
    "with torch.no_grad():\n",
    "    for inputs, labels in val_loader:\n",
    "        outputs = model(inputs.float())\n",
    "        predicted = (outputs > 0.5).int().flatten()  \n",
    "        total += labels.size(0)\n",
    "        correct += (predicted == labels.float()).sum().item()\n",
    "\n",
    "accuracy = correct / total\n",
    "print(f'Validation Accuracy: {100*accuracy}%')"
   ]
  },
  {
   "cell_type": "code",
   "execution_count": 239,
   "id": "fb617297",
   "metadata": {},
   "outputs": [],
   "source": [
    "tokenizer = BertTokenizer.from_pretrained('bert-base-multilingual-cased')\n",
    "\n",
    "def tokenize(text):\n",
    "    tokens = tokenizer.tokenize(text)\n",
    "    token_ids = tokenizer.convert_tokens_to_ids(tokens)\n",
    "    return token_ids\n",
    "\n",
    "train_df['token2'] = train_df['comment'].apply(tokenize)\n",
    "val_df['token2'] = val_df['comment'].apply(tokenize)"
   ]
  },
  {
   "cell_type": "code",
   "execution_count": 240,
   "id": "441f1c3f",
   "metadata": {},
   "outputs": [],
   "source": [
    "def tokens_to_text(tokens):\n",
    "    tokens = tokenizer.convert_ids_to_tokens(tokens)\n",
    "    text = ' '.join(tokens)\n",
    "    return text\n",
    "\n",
    "train_df['tokens2_text'] = train_df['token2'].apply(tokens_to_text)\n",
    "val_df['tokens2_text'] = val_df['token2'].apply(tokens_to_text)"
   ]
  },
  {
   "cell_type": "code",
   "execution_count": 241,
   "id": "d4da5fb6",
   "metadata": {},
   "outputs": [],
   "source": [
    "train_sentences = train_df['tokens2_text'].tolist()\n",
    "val_sentences=val_df['tokens2_text'].tolist()\n",
    "\n",
    "word2vec_model = Word2Vec(sentences=train_sentences + val_sentences, vector_size=100, window=5, min_count=1, workers=4)\n",
    "\n"
   ]
  },
  {
   "cell_type": "code",
   "execution_count": 242,
   "id": "960ac1e3",
   "metadata": {},
   "outputs": [],
   "source": [
    "def text_to_w2v(text, word2vec_model, vector_size):\n",
    "    vectors = []\n",
    "    for word in text:\n",
    "        if word in word2vec_model.wv:\n",
    "            vectors.append(word2vec_model.wv[word])\n",
    "    if len(vectors) > 0:\n",
    "        return np.mean(vectors, axis=0)\n",
    "    else:\n",
    "        return np.zeros(vector_size)\n",
    "\n",
    "X_train = np.vstack(train_df['tokens2_text'].apply(lambda x: text_to_w2v(x, word2vec_model, 100)))\n",
    "X_val = np.vstack(val_df['tokens2_text'].apply(lambda x: text_to_w2v(x, word2vec_model, 100)))\n",
    "y_train = np.array(train_df['toxic'])\n",
    "y_val = np.array(val_df['toxic'])\n",
    "\n",
    "X_train_tensor = torch.tensor(X_train).float()\n",
    "X_val_tensor = torch.tensor(X_val).float()\n",
    "y_train_tensor = torch.tensor(y_train)\n",
    "y_val_tensor = torch.tensor(y_val)"
   ]
  },
  {
   "cell_type": "code",
   "execution_count": 243,
   "id": "75a15cf5",
   "metadata": {},
   "outputs": [],
   "source": [
    "class CustomDataset(Dataset):\n",
    "    def __init__(self, X, y):\n",
    "        self.X = X\n",
    "        self.y = y\n",
    "\n",
    "    def __len__(self):\n",
    "        return len(self.X)\n",
    "\n",
    "    def __getitem__(self, idx):\n",
    "        return self.X[idx], self.y[idx]\n",
    "\n",
    "train_dataset = CustomDataset(X_train_tensor, y_train_tensor)\n",
    "val_dataset = CustomDataset(X_val_tensor, y_val_tensor)\n",
    "\n",
    "train_loader = DataLoader(train_dataset, batch_size=32, shuffle=True)\n",
    "val_loader = DataLoader(val_dataset, batch_size=32)"
   ]
  },
  {
   "cell_type": "code",
   "execution_count": 244,
   "id": "d52e4af4",
   "metadata": {},
   "outputs": [
    {
     "name": "stdout",
     "output_type": "stream",
     "text": [
      "Epoch 1/10, Loss: 0.48910747317650055\n",
      "Epoch 2/10, Loss: 0.4752988198414291\n",
      "Epoch 3/10, Loss: 0.47070863161027693\n",
      "Epoch 4/10, Loss: 0.46787577713334877\n",
      "Epoch 5/10, Loss: 0.46658116545986783\n",
      "Epoch 6/10, Loss: 0.46421417977601126\n",
      "Epoch 7/10, Loss: 0.46386455993081055\n",
      "Epoch 8/10, Loss: 0.4615860882906886\n",
      "Epoch 9/10, Loss: 0.4612350611582852\n",
      "Epoch 10/10, Loss: 0.45984054307098204\n",
      "Validation Accuracy: 78.13033019899409%\n"
     ]
    }
   ],
   "source": [
    "class Classifier(nn.Module):\n",
    "    def __init__(self, input_size, hidden_size1, hidden_size2, hidden_size3, num_classes, dropout_prob=0.5):\n",
    "        super(Classifier, self).__init__()\n",
    "        self.fc1 = nn.Linear(input_size, hidden_size1)\n",
    "        self.relu1 = nn.ReLU()\n",
    "        self.fc2 = nn.Linear(hidden_size1, hidden_size2)\n",
    "        self.relu2 = nn.ReLU()\n",
    "        self.fc3 = nn.Linear(hidden_size2, hidden_size3)\n",
    "        self.relu3 = nn.ReLU()\n",
    "        self.fc4 = nn.Linear(hidden_size3, num_classes)\n",
    "        self.dropout = nn.Dropout(dropout_prob)\n",
    "        self.batchnorm1 = nn.BatchNorm1d(hidden_size1)\n",
    "        self.batchnorm2 = nn.BatchNorm1d(hidden_size2)\n",
    "        self.batchnorm3 = nn.BatchNorm1d(hidden_size3)\n",
    "\n",
    "    def forward(self, x):\n",
    "        out = self.fc1(x)\n",
    "        out = self.batchnorm1(out)\n",
    "        out = self.relu1(out)\n",
    "        out = self.dropout(out)\n",
    "        out = self.fc2(out)\n",
    "        out = self.batchnorm2(out)\n",
    "        out = self.relu2(out)\n",
    "        out = self.dropout(out)\n",
    "        out = self.fc3(out)\n",
    "        out = self.batchnorm3(out)\n",
    "        out = self.relu3(out)\n",
    "        out = self.dropout(out)\n",
    "        out = self.fc4(out)\n",
    "        return out\n",
    "\n",
    "input_size = 100  \n",
    "hidden_size1 = 256\n",
    "hidden_size2 = 128\n",
    "hidden_size3 = 64\n",
    "num_classes = 1\n",
    "\n",
    "model = Classifier(input_size, hidden_size1, hidden_size2, hidden_size3, num_classes)\n",
    "criterion = nn.BCEWithLogitsLoss()\n",
    "optimizer = optim.Adam(model.parameters(), lr=0.001)\n",
    "\n",
    "\n",
    "num_epochs = 10\n",
    "for epoch in range(num_epochs):\n",
    "    model.train()\n",
    "    running_loss = 0.0\n",
    "    for inputs, labels in train_loader:\n",
    "        optimizer.zero_grad()\n",
    "        outputs = model(inputs.float())\n",
    "        labels = labels.view(-1, 1) \n",
    "        loss = criterion(outputs, labels.float())\n",
    "        loss.backward()\n",
    "        optimizer.step()\n",
    "        running_loss += loss.item()\n",
    "    \n",
    "    print(f\"Epoch {epoch+1}/{num_epochs}, Loss: {running_loss/len(train_loader)}\")\n",
    "\n",
    "model.eval()\n",
    "correct = 0\n",
    "total = 0\n",
    "with torch.no_grad():\n",
    "    for inputs, labels in val_loader:\n",
    "        outputs = model(inputs.float())\n",
    "        predicted = (outputs > 0.5).int().flatten()  \n",
    "        total += labels.size(0)\n",
    "        correct += (predicted == labels.float()).sum().item()\n",
    "\n",
    "accuracy = correct / total\n",
    "print(f'Validation Accuracy: {100*accuracy}%')"
   ]
  },
  {
   "cell_type": "code",
   "execution_count": null,
   "id": "479628b9",
   "metadata": {},
   "outputs": [],
   "source": []
  },
  {
   "cell_type": "code",
   "execution_count": null,
   "id": "92a80dd5",
   "metadata": {
    "execution": {
     "iopub.execute_input": "2024-06-09T21:17:19.135720Z",
     "iopub.status.busy": "2024-06-09T21:17:19.134549Z"
    },
    "tags": []
   },
   "outputs": [
    {
     "name": "stderr",
     "output_type": "stream",
     "text": [
      "Some weights of BertForSequenceClassification were not initialized from the model checkpoint at bert-base-uncased and are newly initialized: ['classifier.bias', 'classifier.weight']\n",
      "You should probably TRAIN this model on a down-stream task to be able to use it for predictions and inference.\n",
      "/home/jupyter/.local/lib/python3.10/site-packages/transformers/optimization.py:588: FutureWarning: This implementation of AdamW is deprecated and will be removed in a future version. Use the PyTorch implementation torch.optim.AdamW instead, or set `no_deprecation_warning=True` to disable this warning\n",
      "  warnings.warn(\n"
     ]
    },
    {
     "name": "stdout",
     "output_type": "stream",
     "text": [
      "Эпоха 1/3\n",
      "----------\n",
      "Потери на обучении 0.5387439450112497 точность 0.8509777551812551\n",
      "Потери на валидации 0.5305809502396182 точность 0.5463401833598478\n",
      "Эпоха 2/3\n",
      "----------\n",
      "Потери на обучении 0.5302002803123144 точность 0.8512292326111558\n",
      "Потери на валидации 0.5273885856707685 точность 0.5463401833598478\n",
      "Эпоха 3/3\n",
      "----------\n",
      "Потери на обучении 0.5288059385319905 точность 0.8511909643066057\n",
      "Потери на валидации 0.5276049016451342 точность 0.5463401833598478\n"
     ]
    }
   ],
   "source": [
    "class BertDataset(Dataset):\n",
    "    def __init__(self, data, tokenizer, max_len=100):\n",
    "        self.data = data\n",
    "        self.tokenizer = tokenizer\n",
    "        self.max_len = max_len\n",
    "        self.comments = data['comment'].values\n",
    "        self.labels = data['toxic'].values\n",
    "\n",
    "    def __len__(self):\n",
    "        return len(self.comments)\n",
    "\n",
    "    def __getitem__(self, idx):\n",
    "        comment = self.comments[idx]\n",
    "        label = self.labels[idx]\n",
    "        encoding = self.tokenizer.encode_plus(\n",
    "            comment,\n",
    "            add_special_tokens=True,\n",
    "            max_length=self.max_len,\n",
    "            padding='max_length',\n",
    "            return_attention_mask=True,\n",
    "            return_tensors='pt',\n",
    "            truncation=True\n",
    "        )\n",
    "        return {\n",
    "            'comment_text': comment,\n",
    "            'input_ids': encoding['input_ids'].flatten(),\n",
    "            'attention_mask': encoding['attention_mask'].flatten(),\n",
    "            'label': torch.tensor(label, dtype=torch.long)\n",
    "        }\n",
    "\n",
    "tokenizer = BertTokenizer.from_pretrained('bert-base-uncased',num_labels=2)\n",
    "\n",
    "\n",
    "train_dataset = BertDataset(train_df, tokenizer)\n",
    "val_dataset = BertDataset(val_df, tokenizer)\n",
    "test_dataset = BertDataset(test_df, tokenizer)\n",
    "\n",
    "batch_size = 16\n",
    "train_loader = DataLoader(train_dataset, batch_size=batch_size, shuffle=True)\n",
    "val_loader = DataLoader(val_dataset, batch_size=batch_size, shuffle=False)\n",
    "test_loader = DataLoader(test_dataset, batch_size=batch_size, shuffle=False)\n",
    "\n",
    "def train_epoch(model, data_loader, loss_fn, optimizer, device, scheduler, n_examples):\n",
    "    model = model.train()\n",
    "    losses = []\n",
    "    correct_predictions = 0\n",
    "    \n",
    "    for d in data_loader:\n",
    "        input_ids = d[\"input_ids\"].to(device)\n",
    "        attention_mask = d[\"attention_mask\"].to(device)\n",
    "        labels = d[\"label\"].to(device)\n",
    "\n",
    "        outputs = model(\n",
    "            input_ids=input_ids,\n",
    "            attention_mask=attention_mask,\n",
    "            labels=labels\n",
    "        )\n",
    "        \n",
    "        loss = outputs.loss\n",
    "        logits = outputs.logits\n",
    "        _, preds = torch.max(logits, dim=1)\n",
    "        correct_predictions += torch.sum(preds == labels)\n",
    "        losses.append(loss.item())\n",
    "\n",
    "        loss.backward()\n",
    "        optimizer.step()\n",
    "        scheduler.step()\n",
    "        optimizer.zero_grad()\n",
    "    \n",
    "    return correct_predictions.double() / n_examples, np.mean(losses)\n",
    "\n",
    "def eval_model(model, data_loader, loss_fn, device, n_examples):\n",
    "    model = model.eval()\n",
    "    losses = []\n",
    "    correct_predictions = 0\n",
    "    \n",
    "    with torch.no_grad():\n",
    "        for d in data_loader:\n",
    "            input_ids = d[\"input_ids\"].to(device)\n",
    "            attention_mask = d[\"attention_mask\"].to(device)\n",
    "            labels = d[\"label\"].to(device)\n",
    "\n",
    "            outputs = model(\n",
    "                input_ids=input_ids,\n",
    "                attention_mask=attention_mask,\n",
    "                labels=labels\n",
    "            )\n",
    "            \n",
    "            loss = outputs.loss\n",
    "            logits = outputs.logits\n",
    "            _, preds = torch.max(logits, dim=1)\n",
    "            correct_predictions += torch.sum(preds == labels)\n",
    "            losses.append(loss.item())\n",
    "    \n",
    "    return correct_predictions.double() / n_examples, np.mean(losses)\n",
    "\n",
    "device = torch.device(\"cuda\" if torch.cuda.is_available() else \"cpu\")\n",
    "\n",
    "model = BertForSequenceClassification.from_pretrained('bert-base-uncased', num_labels=2).to(device)\n",
    "\n",
    "for param in model.bert.parameters():\n",
    "    param.requires_grad = False\n",
    "\n",
    "EPOCHS = 3\n",
    "optimizer = AdamW(model.parameters(), lr=2e-5, correct_bias=False)\n",
    "total_steps = len(train_loader) * EPOCHS\n",
    "\n",
    "scheduler = torch.optim.lr_scheduler.OneCycleLR(\n",
    "    optimizer, max_lr=2e-5, steps_per_epoch=len(train_loader), epochs=EPOCHS\n",
    ")\n",
    "\n",
    "loss_fn = nn.CrossEntropyLoss().to(device)\n",
    "\n",
    "for epoch in range(EPOCHS):\n",
    "    print(f'Эпоха {epoch + 1}/{EPOCHS}')\n",
    "    print('-' * 10)\n",
    "    \n",
    "    train_acc, train_loss = train_epoch(\n",
    "        model,\n",
    "        train_loader,\n",
    "        loss_fn,\n",
    "        optimizer,\n",
    "        device,\n",
    "        scheduler,\n",
    "        len(train_data)\n",
    "    )\n",
    "    \n",
    "    print(f'Потери на обучении {train_loss} точность {train_acc}')\n",
    "    \n",
    "    val_acc, val_loss = eval_model(\n",
    "        model,\n",
    "        val_loader,\n",
    "        loss_fn,\n",
    "        device,\n",
    "        len(val_data)\n",
    "    )\n",
    "    \n",
    "    print(f'Потери на валидации {val_loss} точность {val_acc}')\n",
    "\n",
    "test_acc, test_loss = eval_model(\n",
    "    model,\n",
    "    test_loader,\n",
    "    loss_fn,\n",
    "    device,\n",
    "    len(test_data)\n",
    ")\n",
    "print(f'Потери на тесте {test_loss} точность {test_acc}')"
   ]
  },
  {
   "cell_type": "code",
   "execution_count": 168,
   "id": "e8b0d6ef",
   "metadata": {
    "execution": {
     "iopub.execute_input": "2024-06-09T21:10:25.482489Z",
     "iopub.status.busy": "2024-06-09T21:10:25.481312Z",
     "iopub.status.idle": "2024-06-09T21:12:40.200999Z",
     "shell.execute_reply": "2024-06-09T21:12:40.200081Z",
     "shell.execute_reply.started": "2024-06-09T21:10:25.482437Z"
    },
    "tags": []
   },
   "outputs": [
    {
     "name": "stdout",
     "output_type": "stream",
     "text": [
      "Epoch 1/7, Loss: 0.4048386023119423, Validation Accuracy: 83.74528890841407%\n",
      "Epoch 2/7, Loss: 0.39024826427880316, Validation Accuracy: 83.55568914888205%\n",
      "Epoch 3/7, Loss: 0.3871276554643881, Validation Accuracy: 83.69442068024694%\n",
      "Epoch 4/7, Loss: 0.3848838302966493, Validation Accuracy: 83.28747485490993%\n",
      "Epoch 5/7, Loss: 0.38321751222656963, Validation Accuracy: 83.81696686628592%\n",
      "Epoch 6/7, Loss: 0.38111600939588375, Validation Accuracy: 83.99038128049203%\n",
      "Epoch 7/7, Loss: 0.3794125056623014, Validation Accuracy: 84.08286896806862%\n",
      "Test Accuracy: 84.22658959537573%\n"
     ]
    }
   ],
   "source": [
    "def Tokenizer(text):\n",
    "    return re.findall(r'\\b\\w+\\b', text)\n",
    "\n",
    "train_df['token1'] = train_df['comment'].apply(Tokenizer)\n",
    "val_df['token1'] = val_df['comment'].apply(Tokenizer)\n",
    "test_df['token1'] = test_df['comment'].apply(Tokenizer)\n",
    "\n",
    "train_sentences = train_df['token1'].tolist()\n",
    "val_sentences = val_df['token1'].tolist()\n",
    "\n",
    "word2vec_model = Word2Vec(sentences=train_sentences + val_sentences, vector_size=100, window=5, min_count=1, workers=4)\n",
    "\n",
    "def text_to_w2v(text, word2vec_model, vector_size):\n",
    "    vectors = []\n",
    "    for word in text:\n",
    "        if word in word2vec_model.wv:\n",
    "            vectors.append(word2vec_model.wv[word])\n",
    "    if len(vectors) > 0:\n",
    "        return np.mean(vectors, axis=0)\n",
    "    else:\n",
    "        return np.zeros(vector_size)\n",
    "\n",
    "X_train = np.vstack(train_df['token1'].apply(lambda x: text_to_w2v(x, word2vec_model, 100)))\n",
    "X_val = np.vstack(val_df['token1'].apply(lambda x: text_to_w2v(x, word2vec_model, 100)))\n",
    "y_train = np.array(train_df['toxic'])\n",
    "y_val = np.array(val_df['toxic'])\n",
    "X_test = np.vstack(test_df['token1'].apply(lambda x: text_to_w2v(x, word2vec_model, 100)))\n",
    "y_test = np.array(test_df['toxic'])\n",
    "\n",
    "X_train_tensor = torch.tensor(X_train).float()\n",
    "X_val_tensor = torch.tensor(X_val).float()\n",
    "y_train_tensor = torch.tensor(y_train).float().view(-1, 1)\n",
    "y_val_tensor = torch.tensor(y_val).float().view(-1, 1)\n",
    "X_test_tensor = torch.tensor(X_test).float()\n",
    "y_test_tensor = torch.tensor(y_test).float().view(-1, 1)\n",
    "\n",
    "class CustomDataset(Dataset):\n",
    "    def __init__(self, X, y):\n",
    "        self.X = X\n",
    "        self.y = y\n",
    "\n",
    "    def __len__(self):\n",
    "        return len(self.X)\n",
    "\n",
    "    def __getitem__(self, idx):\n",
    "        return self.X[idx], self.y[idx]\n",
    "\n",
    "train_dataset = CustomDataset(X_train_tensor, y_train_tensor)\n",
    "val_dataset = CustomDataset(X_val_tensor, y_val_tensor)\n",
    "test_dataset = CustomDataset(X_test_tensor, y_test_tensor)\n",
    "\n",
    "train_loader = DataLoader(train_dataset, batch_size=32, shuffle=True)\n",
    "val_loader = DataLoader(val_dataset, batch_size=32)\n",
    "test_loader = DataLoader(test_dataset, batch_size=32)\n",
    "\n",
    "class Classifier(nn.Module):\n",
    "    def __init__(self, input_size, hidden_size1, hidden_size2, hidden_size3, num_classes, dropout_prob=0.5):\n",
    "        super(Classifier, self).__init__()\n",
    "        self.fc1 = nn.Linear(input_size, hidden_size1)\n",
    "        self.relu1 = nn.ReLU()\n",
    "        self.fc2 = nn.Linear(hidden_size1, hidden_size2)\n",
    "        self.relu2 = nn.ReLU()\n",
    "        self.fc3 = nn.Linear(hidden_size2, hidden_size3)\n",
    "        self.relu3 = nn.ReLU()\n",
    "        self.fc4 = nn.Linear(hidden_size3, num_classes)\n",
    "        self.dropout = nn.Dropout(dropout_prob)\n",
    "        self.batchnorm1 = nn.BatchNorm1d(hidden_size1)\n",
    "        self.batchnorm2 = nn.BatchNorm1d(hidden_size2)\n",
    "        self.batchnorm3 = nn.BatchNorm1d(hidden_size3)\n",
    "\n",
    "    def forward(self, x):\n",
    "        out = self.fc1(x)\n",
    "        out = self.batchnorm1(out)\n",
    "        out = self.relu1(out)\n",
    "        out = self.dropout(out)\n",
    "        out = self.fc2(out)\n",
    "        out = self.batchnorm2(out)\n",
    "        out = self.relu2(out)\n",
    "        out = self.dropout(out)\n",
    "        out = self.fc3(out)\n",
    "        out = self.batchnorm3(out)\n",
    "        out = self.relu3(out)\n",
    "        out = self.dropout(out)\n",
    "        out = self.fc4(out)\n",
    "        return out\n",
    "\n",
    "input_size = 100  \n",
    "hidden_size1 = 256\n",
    "hidden_size2 = 128\n",
    "hidden_size3 = 64\n",
    "num_classes = 1\n",
    "\n",
    "model = Classifier(input_size, hidden_size1, hidden_size2, hidden_size3, num_classes)\n",
    "criterion = nn.BCEWithLogitsLoss()\n",
    "optimizer = optim.Adam(model.parameters(), lr=0.001)\n",
    "\n",
    "num_epochs = 7\n",
    "for epoch in range(num_epochs):\n",
    "    model.train()\n",
    "    running_loss = 0.0\n",
    "    for inputs, labels in train_loader:\n",
    "        optimizer.zero_grad()\n",
    "        outputs = model(inputs)\n",
    "        loss = criterion(outputs, labels)\n",
    "        \n",
    "        if torch.isnan(loss):\n",
    "            print(\"Loss is NaN, stopping training\")\n",
    "            break\n",
    "        \n",
    "        loss.backward()\n",
    "        optimizer.step()\n",
    "        running_loss += loss.item()\n",
    "    \n",
    "    model.eval()\n",
    "    correct = 0\n",
    "    total = 0\n",
    "    with torch.no_grad():\n",
    "        for inputs, labels in val_loader:\n",
    "            outputs = model(inputs)\n",
    "            predicted = (torch.sigmoid(outputs) > 0.5).int()\n",
    "            total += labels.size(0)\n",
    "            correct += (predicted == labels.int()).sum().item()\n",
    "\n",
    "    accuracy = correct / total\n",
    "    print(f\"Epoch {epoch+1}/{num_epochs}, Loss: {running_loss/len(train_loader)}, Validation Accuracy: {100 * accuracy}%\")\n",
    "\n",
    "model.eval()\n",
    "correct = 0\n",
    "total = 0\n",
    "predictions = []\n",
    "with torch.no_grad():\n",
    "    for inputs, labels in test_loader:\n",
    "        outputs = model(inputs)\n",
    "        predicted = (torch.sigmoid(outputs) > 0.5).int()\n",
    "        predictions.extend(predicted.cpu().numpy())\n",
    "        total += labels.size(0)\n",
    "        correct += (predicted == labels.int()).sum().item()\n",
    "\n",
    "accuracy = correct / total\n",
    "print(f'Test Accuracy: {100 * accuracy}%')\n",
    "\n"
   ]
  },
  {
   "cell_type": "code",
   "execution_count": 169,
   "id": "992973dc",
   "metadata": {
    "execution": {
     "iopub.execute_input": "2024-06-09T21:12:42.414245Z",
     "iopub.status.busy": "2024-06-09T21:12:42.412872Z",
     "iopub.status.idle": "2024-06-09T21:17:06.637290Z",
     "shell.execute_reply": "2024-06-09T21:17:06.636488Z",
     "shell.execute_reply.started": "2024-06-09T21:12:42.414200Z"
    },
    "tags": []
   },
   "outputs": [
    {
     "name": "stdout",
     "output_type": "stream",
     "text": [
      "Epoch 1/7, Loss: 0.49066552384204326, Validation Accuracy: 77.09079978727831%\n",
      "Epoch 2/7, Loss: 0.47704268481225703, Validation Accuracy: 77.47462369072117%\n",
      "Epoch 3/7, Loss: 0.47298119355349805, Validation Accuracy: 78.0411107771278%\n",
      "Epoch 4/7, Loss: 0.4708659286783818, Validation Accuracy: 77.95093528174061%\n",
      "Epoch 5/7, Loss: 0.4691428528128921, Validation Accuracy: 77.91856459108881%\n",
      "Epoch 6/7, Loss: 0.4677055412921145, Validation Accuracy: 77.48387245947883%\n",
      "Epoch 7/7, Loss: 0.4661537313086176, Validation Accuracy: 78.26308122731162%\n",
      "Test Accuracy: 78.25202312138728%\n"
     ]
    }
   ],
   "source": [
    "tokenizer = BertTokenizer.from_pretrained('bert-base-multilingual-cased')\n",
    "\n",
    "def tokenize(text):\n",
    "    tokens = tokenizer.tokenize(text)\n",
    "    token_ids = tokenizer.convert_tokens_to_ids(tokens)\n",
    "    return token_ids\n",
    "\n",
    "train_df['token2'] = train_df['comment'].apply(tokenize)\n",
    "val_df['token2'] = val_df['comment'].apply(tokenize)\n",
    "test_df['token2']=test_df['comment'].apply(tokenize)\n",
    "def tokens_to_text(tokens):\n",
    "    tokens = tokenizer.convert_ids_to_tokens(tokens)\n",
    "    text = ' '.join(tokens)\n",
    "    return text\n",
    "\n",
    "train_df['tokens2_text'] = train_df['token2'].apply(tokens_to_text)\n",
    "val_df['tokens2_text'] = val_df['token2'].apply(tokens_to_text)\n",
    "test_df['tokens2_text']=test_df['token2'].apply(tokens_to_text)\n",
    "train_sentences = train_df['tokens2_text'].tolist()\n",
    "val_sentences=val_df['tokens2_text'].tolist()\n",
    "\n",
    "word2vec_model = Word2Vec(sentences=train_sentences + val_sentences, vector_size=100, window=5, min_count=1, workers=4)\n",
    "\n",
    "def text_to_w2v(text, word2vec_model, vector_size):\n",
    "    vectors = []\n",
    "    for word in text:\n",
    "        if word in word2vec_model.wv:\n",
    "            vectors.append(word2vec_model.wv[word])\n",
    "    if len(vectors) > 0:\n",
    "        return np.mean(vectors, axis=0)\n",
    "    else:\n",
    "        return np.zeros(vector_size)\n",
    "\n",
    "X_train = np.vstack(train_df['tokens2_text'].apply(lambda x: text_to_w2v(x, word2vec_model, 100)))\n",
    "X_val = np.vstack(val_df['tokens2_text'].apply(lambda x: text_to_w2v(x, word2vec_model, 100)))\n",
    "y_train = np.array(train_df['toxic'])\n",
    "y_val = np.array(val_df['toxic'])\n",
    "X_test=np.vstack(test_df['tokens2_text'].apply(lambda x: text_to_w2v(x, word2vec_model, 100)))\n",
    "y_test = np.array(test_df['toxic'])\n",
    "\n",
    "\n",
    "X_train_tensor = torch.tensor(X_train).float()\n",
    "X_val_tensor = torch.tensor(X_val).float()\n",
    "X_test_tensor=torch.tensor(X_test).float()\n",
    "y_train_tensor = torch.tensor(y_train)\n",
    "y_val_tensor = torch.tensor(y_val)\n",
    "y_test_tensor = torch.tensor(y_test)\n",
    "\n",
    "class CustomDataset(Dataset):\n",
    "    def __init__(self, X, y):\n",
    "        self.X = X\n",
    "        self.y = y\n",
    "\n",
    "    def __len__(self):\n",
    "        return len(self.X)\n",
    "\n",
    "    def __getitem__(self, idx):\n",
    "        return self.X[idx], self.y[idx]\n",
    "\n",
    "train_dataset = CustomDataset(X_train_tensor, y_train_tensor)\n",
    "val_dataset = CustomDataset(X_val_tensor, y_val_tensor)\n",
    "test_dataset = CustomDataset(X_test_tensor, y_test_tensor)\n",
    "\n",
    "\n",
    "train_loader = DataLoader(train_dataset, batch_size=32, shuffle=True)\n",
    "val_loader = DataLoader(val_dataset, batch_size=32)\n",
    "test_loader=DataLoader(test_dataset, batch_size=32)\n",
    "class Classifier(nn.Module):\n",
    "    def __init__(self, input_size, hidden_size1, hidden_size2, hidden_size3, num_classes, dropout_prob=0.5):\n",
    "        super(Classifier, self).__init__()\n",
    "        self.fc1 = nn.Linear(input_size, hidden_size1)\n",
    "        self.relu1 = nn.ReLU()\n",
    "        self.fc2 = nn.Linear(hidden_size1, hidden_size2)\n",
    "        self.relu2 = nn.ReLU()\n",
    "        self.fc3 = nn.Linear(hidden_size2, hidden_size3)\n",
    "        self.relu3 = nn.ReLU()\n",
    "        self.fc4 = nn.Linear(hidden_size3, num_classes)\n",
    "        self.dropout = nn.Dropout(dropout_prob)\n",
    "        self.batchnorm1 = nn.BatchNorm1d(hidden_size1)\n",
    "        self.batchnorm2 = nn.BatchNorm1d(hidden_size2)\n",
    "        self.batchnorm3 = nn.BatchNorm1d(hidden_size3)\n",
    "\n",
    "    def forward(self, x):\n",
    "        out = self.fc1(x)\n",
    "        out = self.batchnorm1(out)\n",
    "        out = self.relu1(out)\n",
    "        out = self.dropout(out)\n",
    "        out = self.fc2(out)\n",
    "        out = self.batchnorm2(out)\n",
    "        out = self.relu2(out)\n",
    "        out = self.dropout(out)\n",
    "        out = self.fc3(out)\n",
    "        out = self.batchnorm3(out)\n",
    "        out = self.relu3(out)\n",
    "        out = self.dropout(out)\n",
    "        out = self.fc4(out)\n",
    "        return out\n",
    "\n",
    "input_size = 100  \n",
    "hidden_size1 = 256\n",
    "hidden_size2 = 128\n",
    "hidden_size3 = 64\n",
    "num_classes = 1\n",
    "\n",
    "model = Classifier(input_size, hidden_size1, hidden_size2, hidden_size3, num_classes)\n",
    "criterion = nn.BCEWithLogitsLoss()\n",
    "optimizer = optim.Adam(model.parameters(), lr=0.001)\n",
    "\n",
    "\n",
    "num_epochs = 7\n",
    "for epoch in range(num_epochs):\n",
    "    model.train()\n",
    "    running_loss = 0.0\n",
    "    for inputs, labels in train_loader:\n",
    "        optimizer.zero_grad()\n",
    "        outputs = model(inputs.float())\n",
    "        labels = labels.view(-1, 1)\n",
    "        loss = criterion(outputs, labels.float())\n",
    "        loss.backward()\n",
    "        optimizer.step()\n",
    "        running_loss += loss.item()\n",
    "    \n",
    "    model.eval()\n",
    "    correct = 0\n",
    "    total = 0\n",
    "    with torch.no_grad():\n",
    "        for inputs, labels in val_loader:\n",
    "            outputs = model(inputs.float())\n",
    "            predicted = (outputs > 0.5).int().flatten()\n",
    "            total += labels.size(0)\n",
    "            correct += (predicted == labels.int()).sum().item()\n",
    "\n",
    "    accuracy = correct / total\n",
    "    print(f\"Epoch {epoch+1}/{num_epochs}, Loss: {running_loss/len(train_loader)}, Validation Accuracy: {100 * accuracy}%\")\n",
    "\n",
    "model.eval()\n",
    "correct = 0\n",
    "total = 0\n",
    "predictions = []\n",
    "with torch.no_grad():\n",
    "    for inputs, labels in test_loader:\n",
    "        outputs = model(inputs.float())\n",
    "        predicted = (outputs > 0.5).int().flatten()\n",
    "        predictions.extend(predicted.cpu().numpy())\n",
    "        total += labels.size(0)\n",
    "        correct += (predicted == labels.int()).sum().item()\n",
    "\n",
    "accuracy = correct / total\n",
    "print(f'Test Accuracy: {100 * accuracy}%')"
   ]
  },
  {
   "cell_type": "code",
   "execution_count": null,
   "id": "6463859a",
   "metadata": {},
   "outputs": [],
   "source": []
  },
  {
   "cell_type": "code",
   "execution_count": null,
   "id": "dc507e33",
   "metadata": {},
   "outputs": [],
   "source": []
  },
  {
   "cell_type": "code",
   "execution_count": null,
   "id": "4576f0ed",
   "metadata": {},
   "outputs": [],
   "source": []
  },
  {
   "cell_type": "code",
   "execution_count": 280,
   "id": "cfde7d2c",
   "metadata": {},
   "outputs": [
    {
     "name": "stdout",
     "output_type": "stream",
     "text": [
      "Epoch 1/10, Loss: 0.3970653284847531\n",
      "Epoch 2/10, Loss: 0.38398574634802723\n",
      "Epoch 3/10, Loss: 0.380305011493889\n",
      "Epoch 4/10, Loss: 0.3770590245214396\n",
      "Epoch 5/10, Loss: 0.3759014404249329\n",
      "Epoch 6/10, Loss: 0.3747214454202114\n",
      "Epoch 7/10, Loss: 0.3730425250755472\n",
      "Epoch 8/10, Loss: 0.37213668054222543\n",
      "Epoch 9/10, Loss: 0.37264951573910743\n",
      "Epoch 10/10, Loss: 0.37073188918125827\n"
     ]
    }
   ],
   "source": [
    "DF['comment']=DF['comment'].apply(preprocess_text)\n",
    "def Tokenizer(text):\n",
    "    return re.findall(r'\\b\\w+\\b', text)\n",
    "DF['token1']=DF['comment'].apply(Tokenizer)\n",
    "word2vec_model = Word2Vec(sentences=DF['token1'].tolist()+test['token1'].tolist(), vector_size=100, window=5, min_count=1, workers=4)\n",
    "def text_to_w2v(text, word2vec_model, vector_size):\n",
    "    vectors = []\n",
    "    for word in text:\n",
    "        if word in word2vec_model.wv:\n",
    "            vectors.append(word2vec_model.wv[word])\n",
    "    if len(vectors) > 0:\n",
    "        return np.mean(vectors, axis=0)\n",
    "    else:\n",
    "        return np.zeros(vector_size)\n",
    "\n",
    "X_train = np.vstack(DF['token1'].apply(lambda x: text_to_w2v(x, word2vec_model, 100)))\n",
    "y_train = np.array(DF['toxic'])\n",
    "\n",
    "X_train_tensor = torch.tensor(X_train).float()\n",
    "y_train_tensor = torch.tensor(y_train)\n",
    "class CustomDataset(Dataset):\n",
    "    def __init__(self, X, y):\n",
    "        self.X = X\n",
    "        self.y = y\n",
    "\n",
    "    def __len__(self):\n",
    "        return len(self.X)\n",
    "\n",
    "    def __getitem__(self, idx):\n",
    "        return self.X[idx], self.y[idx]\n",
    "\n",
    "train_dataset = CustomDataset(X_train_tensor, y_train_tensor)\n",
    "\n",
    "train_loader = DataLoader(train_dataset, batch_size=32, shuffle=True)\n",
    "class Classifier(nn.Module):\n",
    "    def __init__(self, input_size, hidden_size1, hidden_size2, hidden_size3, num_classes, dropout_prob=0.5):\n",
    "        super(Classifier, self).__init__()\n",
    "        self.fc1 = nn.Linear(input_size, hidden_size1)\n",
    "        self.relu1 = nn.ReLU()\n",
    "        self.fc2 = nn.Linear(hidden_size1, hidden_size2)\n",
    "        self.relu2 = nn.ReLU()\n",
    "        self.fc3 = nn.Linear(hidden_size2, hidden_size3)\n",
    "        self.relu3 = nn.ReLU()\n",
    "        self.fc4 = nn.Linear(hidden_size3, num_classes)\n",
    "        self.dropout = nn.Dropout(dropout_prob)\n",
    "        self.batchnorm1 = nn.BatchNorm1d(hidden_size1)\n",
    "        self.batchnorm2 = nn.BatchNorm1d(hidden_size2)\n",
    "        self.batchnorm3 = nn.BatchNorm1d(hidden_size3)\n",
    "\n",
    "    def forward(self, x):\n",
    "        out = self.fc1(x)\n",
    "        out = self.batchnorm1(out)\n",
    "        out = self.relu1(out)\n",
    "        out = self.dropout(out)\n",
    "        out = self.fc2(out)\n",
    "        out = self.batchnorm2(out)\n",
    "        out = self.relu2(out)\n",
    "        out = self.dropout(out)\n",
    "        out = self.fc3(out)\n",
    "        out = self.batchnorm3(out)\n",
    "        out = self.relu3(out)\n",
    "        out = self.dropout(out)\n",
    "        out = self.fc4(out)\n",
    "        return out\n",
    "\n",
    "input_size = 100  \n",
    "hidden_size1 = 256\n",
    "hidden_size2 = 128\n",
    "hidden_size3 = 64\n",
    "num_classes = 1\n",
    "\n",
    "model = Classifier(input_size, hidden_size1, hidden_size2, hidden_size3, num_classes)\n",
    "criterion = nn.BCEWithLogitsLoss()\n",
    "optimizer = optim.Adam(model.parameters(), lr=0.001)\n",
    "\n",
    "\n",
    "num_epochs = 10\n",
    "for epoch in range(num_epochs):\n",
    "    model.train()\n",
    "    running_loss = 0.0\n",
    "    for inputs, labels in train_loader:\n",
    "        optimizer.zero_grad()\n",
    "        outputs = model(inputs.float())\n",
    "        labels = labels.view(-1, 1) \n",
    "        loss = criterion(outputs, labels.float())\n",
    "        loss.backward()\n",
    "        optimizer.step()\n",
    "        running_loss += loss.item()\n",
    "    \n",
    "    print(f\"Epoch {epoch+1}/{num_epochs}, Loss: {running_loss/len(train_loader)}\")"
   ]
  },
  {
   "cell_type": "code",
   "execution_count": 209,
   "id": "6cc3d38e",
   "metadata": {},
   "outputs": [],
   "source": [
    "test['comment'] = test['comment'].apply(lambda x: re.sub('\\t|\\r', ' ', x))\n",
    "test['comment'] = test['comment'].apply(clean_comments)\n",
    "test['comment'] = test['comment'].apply(preprocess_text)\n"
   ]
  },
  {
   "cell_type": "code",
   "execution_count": 235,
   "id": "298e7d19",
   "metadata": {},
   "outputs": [],
   "source": [
    "test['token1']=test['comment'].apply(Tokenizer)\n",
    "X_test=np.vstack(test['token1'].apply(lambda x: text_to_w2v(x, word2vec_model, 100)))\n",
    "X_test_tensor = torch.tensor(X_test).float()\n",
    "test_dataset2 = CustomDataset(X_test_tensor, torch.zeros(len(X_test))) \n",
    "test_loader2 = DataLoader(test_dataset2, batch_size=32, shuffle=True)\n",
    "\n",
    "\n",
    "model.eval()\n",
    "predictions = []\n",
    "\n",
    "with torch.no_grad():\n",
    "    for inputs, _ in test_loader2:\n",
    "        outputs = model(inputs.float())\n",
    "        predicted = (outputs > 0.5).int().flatten().tolist()  # Convert to list\n",
    "        predictions.extend(predicted)\n"
   ]
  },
  {
   "cell_type": "code",
   "execution_count": 282,
   "id": "23fa8337",
   "metadata": {},
   "outputs": [],
   "source": [
    "results = pd.DataFrame({\n",
    "    'ID': range(15000, 20412),\n",
    "    'prediction': predictions  \n",
    "})\n",
    "\n",
    "results.to_csv('predictions3.csv', index=False)"
   ]
  }
 ],
 "metadata": {
  "kernelspec": {
   "display_name": "Python 3 (ipykernel)",
   "language": "python",
   "name": "python3"
  },
  "language_info": {
   "codemirror_mode": {
    "name": "ipython",
    "version": 3
   },
   "file_extension": ".py",
   "mimetype": "text/x-python",
   "name": "python",
   "nbconvert_exporter": "python",
   "pygments_lexer": "ipython3",
   "version": "3.9.13"
  }
 },
 "nbformat": 4,
 "nbformat_minor": 5
}
